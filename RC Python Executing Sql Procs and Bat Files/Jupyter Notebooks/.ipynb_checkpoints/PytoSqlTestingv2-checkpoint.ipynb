{
 "cells": [
  {
   "cell_type": "code",
   "execution_count": 17,
   "metadata": {},
   "outputs": [],
   "source": [
    "import pyodbc # for calling sqlserver\n",
    "import subprocess # for calling bat files\n",
    "import time # for wait period between execution of procs and bat file execution"
   ]
  },
  {
   "cell_type": "code",
   "execution_count": 18,
   "metadata": {},
   "outputs": [],
   "source": [
    "conn = pyodbc.connect('Driver={SQL Server};'\n",
    "                      'Server=PGH;'\n",
    "                      'Database=OSR_Repository;'\n",
    "                      'Trusted_Connection=YES;')"
   ]
  },
  {
   "cell_type": "code",
   "execution_count": 19,
   "metadata": {},
   "outputs": [],
   "source": [
    "theUserName = str(2001)\n",
    "query = \"Select data from Subscribers\"\n",
    "# where Name = {}\".format(theUserName)\n",
    "queryUpdate = \"Exec Change_Subscriber @new_Email = 'Peter@testdata.com', @new_Dir = 'Dir'\""
   ]
  },
  {
   "cell_type": "code",
   "execution_count": 20,
   "metadata": {},
   "outputs": [],
   "source": [
    "cursor = conn.cursor()"
   ]
  },
  {
   "cell_type": "code",
   "execution_count": 22,
   "metadata": {},
   "outputs": [
    {
     "name": "stdout",
     "output_type": "stream",
     "text": [
      "('<?xml version=\"1.0\" encoding=\"utf-16\"?>\\r\\n<Subscriber xmlns:xsd=\"http://www.w3.org/2001/XMLSchema\" xmlns:xsi=\"http://www.w3.org/2001/XMLSchema-instance\" Id=\"00000000-0000-0000-0000-000000000000\" User=\"\" Name=\"Administrator\" Description=\"Admin\" Created=\"2019-03-22T14:51:23.5995603-05:00\" LastChanged=\"2019-03-22T14:54:11.4060913-05:00\">\\r\\n  <MailAddress>john.rinn@plotbi.com</MailAddress>\\r\\n  <Folder>C:\\\\Publisher</Folder>\\r\\n</Subscriber>', )\n",
      "('<?xml version=\"1.0\" encoding=\"utf-16\"?>\\r\\n<Subscriber xmlns:xsd=\"http://www.w3.org/2001/XMLSchema\" xmlns:xsi=\"http://www.w3.org/2001/XMLSchema-instance\" Id=\"033cf7ee-202a-424a-bfb4-8c70e76b72ca\" User=\"villa.int\\\\jrinn\" Name=\"3010\" Description=\"Rose of Sharon a Villa Center\" Created=\"2019-07-12T17:39:17.9755841-05:00\" LastChanged=\"2019-08-30T13:49:23.0547478-05:00\">\\r\\n  <MailAddress>john.rinn@plotbi.com</MailAddress>\\r\\n  <Folder>\\\\\\\\vhq-dc-01\\\\FinancialReporting\\\\Publisher\\\\3010</Folder>\\r\\n</Subscriber>', )\n",
      "('<?xml version=\"1.0\" encoding=\"utf-16\"?>\\r\\n<Subscriber xmlns:xsd=\"http://www.w3.org/2001/XMLSchema\" xmlns:xsi=\"http://www.w3.org/2001/XMLSchema-instance\" Id=\"09eace8e-34ff-410e-897f-38c8a670deb4\" User=\"villa.int\\\\jrinn\" Name=\"6002\" Description=\"Astor House, A Villa Center\" Created=\"2019-07-12T18:09:32.6775026-05:00\" LastChanged=\"2019-07-12T18:09:32.8995164-05:00\">\\r\\n  <MailAddress>john.rinn@plotbi.com</MailAddress>\\r\\n  <Folder>\\\\\\\\vhq-dc-01\\\\FinancialReporting\\\\Publisher\\\\6002</Folder>\\r\\n</Subscriber>', )\n",
      "('<?xml version=\"1.0\" encoding=\"utf-16\"?>\\r\\n<Subscriber xmlns:xsd=\"http://www.w3.org/2001/XMLSchema\" xmlns:xsi=\"http://www.w3.org/2001/XMLSchema-instance\" Id=\"1812197c-1270-4001-aed7-ba381a29c36c\" User=\"villa.int\\\\jrinn\" Name=\"5005\" Description=\"Villa at Rose City\" Created=\"2019-07-12T17:55:20.3576936-05:00\" LastChanged=\"2019-07-12T17:55:20.5777062-05:00\">\\r\\n  <MailAddress>john.rinn@plotbi.com</MailAddress>\\r\\n  <Folder>\\\\\\\\vhq-dc-01\\\\FinancialReporting\\\\Publisher\\\\5005</Folder>\\r\\n</Subscriber>', )\n",
      "('<?xml version=\"1.0\" encoding=\"utf-16\"?>\\r\\n<Subscriber xmlns:xsd=\"http://www.w3.org/2001/XMLSchema\" xmlns:xsi=\"http://www.w3.org/2001/XMLSchema-instance\" Id=\"2f58878a-73a0-4b62-8d33-be0c7b56a00a\" User=\"villa.int\\\\jrinn\" Name=\"5012\" Description=\"Father Murray, A Villa Center\" Created=\"2019-07-12T18:02:52.6295943-05:00\" LastChanged=\"2019-07-12T18:02:52.8506011-05:00\">\\r\\n  <MailAddress>john.rinn@plotbi.com</MailAddress>\\r\\n  <Folder>\\\\\\\\vhq-dc-01\\\\FinancialReporting\\\\Publisher\\\\5012</Folder>\\r\\n</Subscriber>', )\n",
      "('<?xml version=\"1.0\" encoding=\"utf-16\"?>\\r\\n<Subscriber xmlns:xsd=\"http://www.w3.org/2001/XMLSchema\" xmlns:xsi=\"http://www.w3.org/2001/XMLSchema-instance\" Id=\"38a6afe4-c1ce-41e7-bc82-7b1e6ec6a371\" User=\"villa.int\\\\jrinn\" Name=\"5003\" Description=\"Villa at Great Lakes Estates\" Created=\"2019-07-12T17:53:13.1604091-05:00\" LastChanged=\"2019-07-12T17:53:13.3784209-05:00\">\\r\\n  <MailAddress>john.rinn@plotbi.com</MailAddress>\\r\\n  <Folder>\\\\\\\\vhq-dc-01\\\\FinancialReporting\\\\Publisher\\\\5003</Folder>\\r\\n</Subscriber>', )\n",
      "('<?xml version=\"1.0\" encoding=\"utf-16\"?>\\r\\n<Subscriber xmlns:xsd=\"http://www.w3.org/2001/XMLSchema\" xmlns:xsi=\"http://www.w3.org/2001/XMLSchema-instance\" Id=\"3d589a30-05d6-4008-a421-fc190ac7b0b6\" User=\"villa.int\\\\jrinn\" Name=\"3003\" Description=\"Villa at St Louis Park\" Created=\"2019-07-12T17:29:08.6496881-05:00\" LastChanged=\"2019-07-12T17:29:08.8666985-05:00\">\\r\\n  <MailAddress>john.rinn@plotbi.com</MailAddress>\\r\\n  <Folder>\\\\\\\\vhq-dc-01\\\\FinancialReporting\\\\Publisher\\\\3003</Folder>\\r\\n</Subscriber>', )\n",
      "('<?xml version=\"1.0\" encoding=\"utf-16\"?>\\r\\n<Subscriber xmlns:xsd=\"http://www.w3.org/2001/XMLSchema\" xmlns:xsi=\"http://www.w3.org/2001/XMLSchema-instance\" Id=\"43d67288-6c0f-4e81-bd62-88e4e0cde463\" User=\"villa.int\\\\jrinn\" Name=\"2004\" Description=\"Villa at South Holland\" Created=\"2019-07-12T17:21:11.9823871-05:00\" LastChanged=\"2019-07-12T17:26:28.9205394-05:00\">\\r\\n  <MailAddress>john.rinn@plotbi.com</MailAddress>\\r\\n  <Folder>\\\\\\\\vhq-dc-01\\\\FinancialReporting\\\\Publisher\\\\2004</Folder>\\r\\n</Subscriber>', )\n",
      "('<?xml version=\"1.0\" encoding=\"utf-16\"?>\\r\\n<Subscriber xmlns:xsd=\"http://www.w3.org/2001/XMLSchema\" xmlns:xsi=\"http://www.w3.org/2001/XMLSchema-instance\" Id=\"4e934d3b-9137-4216-8288-69691faf3d69\" User=\"villa.int\\\\jrinn\" Name=\"3008\" Description=\"Richfield a Villa Center\" Created=\"2019-07-12T17:35:07.5102383-05:00\" LastChanged=\"2019-07-12T17:35:07.7322507-05:00\">\\r\\n  <MailAddress>john.rinn@plotbi.com</MailAddress>\\r\\n  <Folder>\\\\\\\\vhq-dc-01\\\\FinancialReporting\\\\Publisher\\\\3008</Folder>\\r\\n</Subscriber>', )\n",
      "('<?xml version=\"1.0\" encoding=\"utf-16\"?>\\r\\n<Subscriber xmlns:xsd=\"http://www.w3.org/2001/XMLSchema\" xmlns:xsi=\"http://www.w3.org/2001/XMLSchema-instance\" Id=\"50e56ad2-c870-4cea-9f28-643db44a2cfe\" User=\"villa.int\\\\jrinn\" Name=\"5008\" Description=\"Villa at the Park\" Created=\"2019-07-12T17:58:27.3754037-05:00\" LastChanged=\"2019-07-12T17:58:27.5944166-05:00\">\\r\\n  <MailAddress>john.rinn@plotbi.com</MailAddress>\\r\\n  <Folder>\\\\\\\\vhq-dc-01\\\\FinancialReporting\\\\Publisher\\\\5008</Folder>\\r\\n</Subscriber>', )\n",
      "('<?xml version=\"1.0\" encoding=\"utf-16\"?>\\r\\n<Subscriber xmlns:xsd=\"http://www.w3.org/2001/XMLSchema\" xmlns:xsi=\"http://www.w3.org/2001/XMLSchema-instance\" Id=\"5532b6df-f270-4d84-a2a0-13dd132883cc\" User=\"villa.int\\\\jrinn\" Name=\"5004\" Description=\"Villa at Park Ridge\" Created=\"2019-07-12T17:54:20.4342604-05:00\" LastChanged=\"2019-07-12T17:54:20.6542721-05:00\">\\r\\n  <MailAddress>john.rinn@plotbi.com</MailAddress>\\r\\n  <Folder>\\\\\\\\vhq-dc-01\\\\FinancialReporting\\\\Publisher\\\\5004</Folder>\\r\\n</Subscriber>', )\n",
      "('<?xml version=\"1.0\" encoding=\"utf-16\"?>\\r\\n<Subscriber xmlns:xsd=\"http://www.w3.org/2001/XMLSchema\" xmlns:xsi=\"http://www.w3.org/2001/XMLSchema-instance\" Id=\"55711763-d407-4961-99d5-97a0dda8b23b\" User=\"villa.int\\\\jrinn\" Name=\"2002\" Description=\"Villa at Evergreen\" Created=\"2019-07-11T19:01:06.7989566-05:00\" LastChanged=\"2019-07-12T17:24:30.6157636-05:00\">\\r\\n  <MailAddress>john.rinn@plotbi.com</MailAddress>\\r\\n  <Folder>\\\\\\\\vhq-dc-01\\\\FinancialReporting\\\\Publisher\\\\2002</Folder>\\r\\n</Subscriber>', )\n",
      "('<?xml version=\"1.0\" encoding=\"utf-16\"?>\\r\\n<Subscriber xmlns:xsd=\"http://www.w3.org/2001/XMLSchema\" xmlns:xsi=\"http://www.w3.org/2001/XMLSchema-instance\" Id=\"58e939cc-6f3b-4df3-a50d-bdaddd807a23\" User=\"villa.int\\\\snagel\" Name=\"Steve Nagel\" Description=\"CFO\" Created=\"2019-03-22T14:52:52.4070704-05:00\" LastChanged=\"2019-03-22T14:52:52.610081-05:00\">\\r\\n  <MailAddress>snagel@villahc.com</MailAddress>\\r\\n  <Folder>C:\\\\Publisher</Folder>\\r\\n</Subscriber>', )\n",
      "('<?xml version=\"1.0\" encoding=\"utf-16\"?>\\r\\n<Subscriber xmlns:xsd=\"http://www.w3.org/2001/XMLSchema\" xmlns:xsi=\"http://www.w3.org/2001/XMLSchema-instance\" Id=\"59df446a-6ba7-4a9b-a144-897a2e19aa49\" User=\"villa.int\\\\jrinn\" Name=\"5009\" Description=\"Villa at Traverse Point\" Created=\"2019-07-12T17:59:36.2203465-05:00\" LastChanged=\"2019-07-12T17:59:36.4403631-05:00\">\\r\\n  <MailAddress>john.rinn@plotbi.com</MailAddress>\\r\\n  <Folder>\\\\\\\\vhq-dc-01\\\\FinancialReporting\\\\Publisher\\\\5009</Folder>\\r\\n</Subscriber>', )\n",
      "('<?xml version=\"1.0\" encoding=\"utf-16\"?>\\r\\n<Subscriber xmlns:xsd=\"http://www.w3.org/2001/XMLSchema\" xmlns:xsi=\"http://www.w3.org/2001/XMLSchema-instance\" Id=\"6293f26e-d7b4-44fd-a9ba-377eb9c8bd86\" User=\"villa.int\\\\jrinn\" Name=\"5013\" Description=\"Imperial, A Villa Center\" Created=\"2019-07-12T18:03:59.4464211-05:00\" LastChanged=\"2019-07-12T18:03:59.6674311-05:00\">\\r\\n  <MailAddress>john.rinn@plotbi.com</MailAddress>\\r\\n  <Folder>\\\\\\\\vhq-dc-01\\\\FinancialReporting\\\\Publisher\\\\5013</Folder>\\r\\n</Subscriber>', )\n",
      "('<?xml version=\"1.0\" encoding=\"utf-16\"?>\\r\\n<Subscriber xmlns:xsd=\"http://www.w3.org/2001/XMLSchema\" xmlns:xsi=\"http://www.w3.org/2001/XMLSchema-instance\" Id=\"636c487e-9bfa-49b4-b36e-104a24ea3e07\" User=\"villa.int\\\\jrinn\" Name=\"4003\" Description=\"Villa at Middleton Village\" Created=\"2019-07-12T17:45:50.2470486-05:00\" LastChanged=\"2019-07-12T17:45:50.4650585-05:00\">\\r\\n  <MailAddress>john.rinn@plotbi.com</MailAddress>\\r\\n  <Folder>\\\\\\\\vhq-dc-01\\\\FinancialReporting\\\\Publisher\\\\4003</Folder>\\r\\n</Subscriber>', )\n",
      "('<?xml version=\"1.0\" encoding=\"utf-16\"?>\\r\\n<Subscriber xmlns:xsd=\"http://www.w3.org/2001/XMLSchema\" xmlns:xsi=\"http://www.w3.org/2001/XMLSchema-instance\" Id=\"6448b7d6-b06b-4264-8c4c-6e5f6ffec816\" User=\"villa.int\\\\jrinn\" Name=\"5002\" Description=\"Villa at Great Lakes Crossing\" Created=\"2019-07-12T17:51:59.3811835-05:00\" LastChanged=\"2019-07-12T17:51:59.5971934-05:00\">\\r\\n  <MailAddress>john.rinn@plotbi.com</MailAddress>\\r\\n  <Folder>\\\\\\\\vhq-dc-01\\\\FinancialReporting\\\\Publisher\\\\5002</Folder>\\r\\n</Subscriber>', )\n",
      "('<?xml version=\"1.0\" encoding=\"utf-16\"?>\\r\\n<Subscriber xmlns:xsd=\"http://www.w3.org/2001/XMLSchema\" xmlns:xsi=\"http://www.w3.org/2001/XMLSchema-instance\" Id=\"671fae0c-ba92-4275-95ac-fd54aee02626\" User=\"villa.int\\\\jrinn\" Name=\"5010\" Description=\"Villa at West Branch\" Created=\"2019-07-12T18:00:35.7397534-05:00\" LastChanged=\"2019-07-12T18:00:35.9587636-05:00\">\\r\\n  <MailAddress>john.rinn@plotbi.com</MailAddress>\\r\\n  <Folder>\\\\\\\\vhq-dc-01\\\\FinancialReporting\\\\Publisher\\\\5010</Folder>\\r\\n</Subscriber>', )\n",
      "('<?xml version=\"1.0\" encoding=\"utf-16\"?>\\r\\n<Subscriber xmlns:xsd=\"http://www.w3.org/2001/XMLSchema\" xmlns:xsi=\"http://www.w3.org/2001/XMLSchema-instance\" Id=\"67c567a9-e702-43aa-a62b-cd792e2f12fd\" User=\"villa.int\\\\jrinn\" Name=\"3002\" Description=\"Villa at Osseo\" Created=\"2019-07-12T17:28:06.1941091-05:00\" LastChanged=\"2019-07-12T17:28:06.4161355-05:00\">\\r\\n  <MailAddress>john.rinn@plotbi.com</MailAddress>\\r\\n  <Folder>\\\\\\\\vhq-dc-01\\\\FinancialReporting\\\\Publisher\\\\3002</Folder>\\r\\n</Subscriber>', )\n",
      "('<?xml version=\"1.0\" encoding=\"utf-16\"?>\\r\\n<Subscriber xmlns:xsd=\"http://www.w3.org/2001/XMLSchema\" xmlns:xsi=\"http://www.w3.org/2001/XMLSchema-instance\" Id=\"6f2229b6-65d9-46b2-8489-f22bbe7a6045\" User=\"villa.int\\\\jrinn\" Name=\"3007\" Description=\"Park Health at Villa Center\" Created=\"2019-07-12T17:33:49.8807923-05:00\" LastChanged=\"2019-07-12T17:33:50.1008064-05:00\">\\r\\n  <MailAddress>john.rinn@plotbi.com</MailAddress>\\r\\n  <Folder>\\\\\\\\vhq-dc-01\\\\FinancialReporting\\\\Publisher\\\\3007</Folder>\\r\\n</Subscriber>', )\n",
      "('<?xml version=\"1.0\" encoding=\"utf-16\"?>\\r\\n<Subscriber xmlns:xsd=\"http://www.w3.org/2001/XMLSchema\" xmlns:xsi=\"http://www.w3.org/2001/XMLSchema-instance\" Id=\"70ba6138-a641-4699-a354-08f158e0480a\" User=\"villa.int\\\\jrinn\" Name=\"4002\" Description=\"Villa at Lincoln Park\" Created=\"2019-07-12T17:42:48.5306388-05:00\" LastChanged=\"2019-07-12T17:42:48.750652-05:00\">\\r\\n  <MailAddress>john.rinn@plotbi.com</MailAddress>\\r\\n  <Folder>\\\\\\\\vhq-dc-01\\\\FinancialReporting\\\\Publisher\\\\4002</Folder>\\r\\n</Subscriber>', )\n",
      "('<?xml version=\"1.0\" encoding=\"utf-16\"?>\\r\\n<Subscriber xmlns:xsd=\"http://www.w3.org/2001/XMLSchema\" xmlns:xsi=\"http://www.w3.org/2001/XMLSchema-instance\" Id=\"761bc2ce-4a77-4ee7-957a-366f8439cf20\" User=\"villa.int\\\\jrinn\" Name=\"5001\" Description=\"Villa at City Center\" Created=\"2019-07-12T17:50:43.8098577-05:00\" LastChanged=\"2019-07-12T17:50:44.029867-05:00\">\\r\\n  <MailAddress>john.rinn@plotbi.com</MailAddress>\\r\\n  <Folder>\\\\\\\\vhq-dc-01\\\\FinancialReporting\\\\Publisher\\\\5001</Folder>\\r\\n</Subscriber>', )\n",
      "('<?xml version=\"1.0\" encoding=\"utf-16\"?>\\r\\n<Subscriber xmlns:xsd=\"http://www.w3.org/2001/XMLSchema\" xmlns:xsi=\"http://www.w3.org/2001/XMLSchema-instance\" Id=\"7b64fe78-b53f-483e-89c6-4aeee8ab7915\" User=\"villa.int\\\\jrinn\" Name=\"4001\" Description=\"Villa at Bradley Estates\" Created=\"2019-07-12T17:41:43.0568859-05:00\" LastChanged=\"2019-07-12T17:41:43.274901-05:00\">\\r\\n  <MailAddress>john.rinn@plotbi.com</MailAddress>\\r\\n  <Folder>\\\\\\\\vhq-dc-01\\\\FinancialReporting\\\\Publisher\\\\4001</Folder>\\r\\n</Subscriber>', )\n",
      "('<?xml version=\"1.0\" encoding=\"utf-16\"?>\\r\\n<Subscriber xmlns:xsd=\"http://www.w3.org/2001/XMLSchema\" xmlns:xsi=\"http://www.w3.org/2001/XMLSchema-instance\" Id=\"7bbf6239-5dbb-434b-b582-f9c23e395341\" User=\"villa.int\\\\jrinn\" Name=\"5011\" Description=\"Ambassador, A Villa Center\" Created=\"2019-07-12T18:01:44.3606829-05:00\" LastChanged=\"2019-07-12T18:01:44.5786955-05:00\">\\r\\n  <MailAddress>john.rinn@plotbi.com</MailAddress>\\r\\n  <Folder>\\\\\\\\vhq-dc-01\\\\FinancialReporting\\\\Publisher\\\\5011</Folder>\\r\\n</Subscriber>', )\n",
      "('<?xml version=\"1.0\" encoding=\"utf-16\"?>\\r\\n<Subscriber xmlns:xsd=\"http://www.w3.org/2001/XMLSchema\" xmlns:xsi=\"http://www.w3.org/2001/XMLSchema-instance\" Id=\"875d0714-4d02-4143-a733-78498972b50b\" User=\"villa.int\\\\jrinn\" Name=\"2001\" Description=\"Park Villa\" Created=\"2019-07-11T18:51:53.9662975-05:00\" LastChanged=\"2019-07-12T17:19:55.8790332-05:00\">\\r\\n  <MailAddress>john.rinn@plotbi.com</MailAddress>\\r\\n  <Folder>\\\\\\\\vhq-dc-01\\\\FinancialReporting\\\\Publisher\\\\2001</Folder>\\r\\n</Subscriber>', )\n",
      "('<?xml version=\"1.0\" encoding=\"utf-16\"?>\\r\\n<Subscriber xmlns:xsd=\"http://www.w3.org/2001/XMLSchema\" xmlns:xsi=\"http://www.w3.org/2001/XMLSchema-instance\" Id=\"88f37d90-47d0-466f-b28a-d936c79b3ea6\" User=\"villa.int\\\\jrinn\" Name=\"3005\" Description=\"New Brighton a Villa Center\" Created=\"2019-07-12T17:31:36.5391577-05:00\" LastChanged=\"2019-07-12T17:37:25.7021549-05:00\">\\r\\n  <MailAddress>john.rinn@plotbi.com</MailAddress>\\r\\n  <Folder>\\\\\\\\vhq-dc-01\\\\FinancialReporting\\\\Publisher\\\\3005</Folder>\\r\\n</Subscriber>', )\n",
      "('<?xml version=\"1.0\" encoding=\"utf-16\"?>\\r\\n<Subscriber xmlns:xsd=\"http://www.w3.org/2001/XMLSchema\" xmlns:xsi=\"http://www.w3.org/2001/XMLSchema-instance\" Id=\"9293faa0-f73a-4e79-908d-57776c3f7049\" User=\"villa.int\\\\jrinn\" Name=\"5016\" Description=\"Westland, A Villa Center\" Created=\"2019-07-12T18:07:18.1628001-05:00\" LastChanged=\"2019-07-12T18:07:18.3868108-05:00\">\\r\\n  <MailAddress>john.rinn@plotbi.com</MailAddress>\\r\\n  <Folder>\\\\\\\\vhq-dc-01\\\\FinancialReporting\\\\Publisher\\\\5016</Folder>\\r\\n</Subscriber>', )\n",
      "('<?xml version=\"1.0\" encoding=\"utf-16\"?>\\r\\n<Subscriber xmlns:xsd=\"http://www.w3.org/2001/XMLSchema\" xmlns:xsi=\"http://www.w3.org/2001/XMLSchema-instance\" Id=\"9816e4c8-87e9-4a01-856b-c24f5543ffb0\" User=\"villa.int\\\\mcohen\" Name=\"Matt Cohen\" Description=\"\" Created=\"2019-03-22T14:55:10.7601154-05:00\" LastChanged=\"2019-03-22T14:55:10.9631253-05:00\">\\r\\n  <MailAddress>mcohen@villahc.com</MailAddress>\\r\\n  <Folder>C:\\\\Publisher</Folder>\\r\\n</Subscriber>', )\n",
      "('<?xml version=\"1.0\" encoding=\"utf-16\"?>\\r\\n<Subscriber xmlns:xsd=\"http://www.w3.org/2001/XMLSchema\" xmlns:xsi=\"http://www.w3.org/2001/XMLSchema-instance\" Id=\"a0894b41-8985-4098-864a-5e6619e85c06\" User=\"villa.int\\\\jrinn\" Name=\"2005\" Description=\"Villa at Windsor Park\" Created=\"2019-07-12T17:23:15.5374649-05:00\" LastChanged=\"2019-07-12T17:27:05.2326201-05:00\">\\r\\n  <MailAddress>john.rinn@plotbi.com</MailAddress>\\r\\n  <Folder>\\\\\\\\vhq-dc-01\\\\FinancialReporting\\\\Publisher\\\\2005</Folder>\\r\\n</Subscriber>', )\n",
      "('<?xml version=\"1.0\" encoding=\"utf-16\"?>\\r\\n<Subscriber xmlns:xsd=\"http://www.w3.org/2001/XMLSchema\" xmlns:xsi=\"http://www.w3.org/2001/XMLSchema-instance\" Id=\"c8c01082-060d-4d76-80f0-d38c20d2ddba\" User=\"villa.int\\\\jrinn\" Name=\"3001\" Description=\"Villa at Bryn Mawr\" Created=\"2019-07-12T17:19:33.5827548-05:00\" LastChanged=\"2019-07-12T17:25:07.9809038-05:00\">\\r\\n  <MailAddress>john.rinn@plotbi.com</MailAddress>\\r\\n  <Folder>\\\\\\\\vhq-dc-01\\\\FinancialReporting\\\\Publisher\\\\3001</Folder>\\r\\n</Subscriber>', )\n",
      "('<?xml version=\"1.0\" encoding=\"utf-16\"?>\\r\\n<Subscriber xmlns:xsd=\"http://www.w3.org/2001/XMLSchema\" xmlns:xsi=\"http://www.w3.org/2001/XMLSchema-instance\" Id=\"cc6a6c52-2598-4451-8305-25e889765fe2\" User=\"villa.int\\\\jrinn\" Name=\"5014\" Description=\"Regency, A Villa Center\" Created=\"2019-07-12T18:05:02.6010331-05:00\" LastChanged=\"2019-07-12T18:05:02.8200457-05:00\">\\r\\n  <MailAddress>john.rinn@plotbi.com</MailAddress>\\r\\n  <Folder>\\\\\\\\vhq-dc-01\\\\FinancialReporting\\\\Publisher\\\\5014</Folder>\\r\\n</Subscriber>', )\n",
      "('<?xml version=\"1.0\" encoding=\"utf-16\"?>\\r\\n<Subscriber xmlns:xsd=\"http://www.w3.org/2001/XMLSchema\" xmlns:xsi=\"http://www.w3.org/2001/XMLSchema-instance\" Id=\"d64f89cb-ef6e-44a1-9aa6-5861005020f8\" User=\"villa.int\\\\jrinn\" Name=\"3011\" Description=\"Galtier a Villa Center\" Created=\"2019-07-12T17:40:19.3101011-05:00\" LastChanged=\"2019-07-12T17:40:19.5371102-05:00\">\\r\\n  <MailAddress>john.rinn@plotbi.com</MailAddress>\\r\\n  <Folder>\\\\\\\\vhq-dc-01\\\\FinancialReporting\\\\Publisher\\\\3011</Folder>\\r\\n</Subscriber>', )\n",
      "('<?xml version=\"1.0\" encoding=\"utf-16\"?>\\r\\n<Subscriber xmlns:xsd=\"http://www.w3.org/2001/XMLSchema\" xmlns:xsi=\"http://www.w3.org/2001/XMLSchema-instance\" Id=\"da8e63bc-f32d-4cc9-b565-621c120fd13f\" User=\"villa.int\\\\jrinn\" Name=\"3004\" Description=\"Brookview a Villa Center\" Created=\"2019-07-12T17:30:26.7111581-05:00\" LastChanged=\"2019-07-12T17:37:00.7227207-05:00\">\\r\\n  <MailAddress>john.rinn@plotbi.com</MailAddress>\\r\\n  <Folder>\\\\\\\\vhq-dc-01\\\\FinancialReporting\\\\Publisher\\\\3004</Folder>\\r\\n</Subscriber>', )\n",
      "('<?xml version=\"1.0\" encoding=\"utf-16\"?>\\r\\n<Subscriber xmlns:xsd=\"http://www.w3.org/2001/XMLSchema\" xmlns:xsi=\"http://www.w3.org/2001/XMLSchema-instance\" Id=\"dd91ddb2-9874-47f3-bdbf-5986880bc6df\" User=\"villa.int\\\\jrinn\" Name=\"3006\" Description=\"Texas Terrace a Villa Center\" Created=\"2019-07-12T17:32:41.1188564-05:00\" LastChanged=\"2019-07-12T17:37:49.6155245-05:00\">\\r\\n  <MailAddress>john.rinn@plotbi.com</MailAddress>\\r\\n  <Folder>\\\\\\\\vhq-dc-01\\\\FinancialReporting\\\\Publisher\\\\3006</Folder>\\r\\n</Subscriber>', )\n",
      "('<?xml version=\"1.0\" encoding=\"utf-16\"?>\\r\\n<Subscriber xmlns:xsd=\"http://www.w3.org/2001/XMLSchema\" xmlns:xsi=\"http://www.w3.org/2001/XMLSchema-instance\" Id=\"e473ca88-92dd-4dc0-be7f-311943e722fe\" User=\"villa.int\\\\jrinn\" Name=\"3009\" Description=\"Robbinsdale a Villa Center\" Created=\"2019-07-12T17:36:16.1251682-05:00\" LastChanged=\"2019-07-12T17:36:16.3451801-05:00\">\\r\\n  <MailAddress>john.rinn@plotbi.com</MailAddress>\\r\\n  <Folder>\\\\\\\\vhq-dc-01\\\\FinancialReporting\\\\Publisher\\\\3009</Folder>\\r\\n</Subscriber>', )\n",
      "('<?xml version=\"1.0\" encoding=\"utf-16\"?>\\r\\n<Subscriber xmlns:xsd=\"http://www.w3.org/2001/XMLSchema\" xmlns:xsi=\"http://www.w3.org/2001/XMLSchema-instance\" Id=\"e5e0d5ae-a0e1-4c33-8ea6-83ff289cb2e8\" User=\"villa.int\\\\jrinn\" Name=\"5007\" Description=\"Villa at the Bay\" Created=\"2019-07-12T17:57:28.4510272-05:00\" LastChanged=\"2019-07-12T17:57:28.6700403-05:00\">\\r\\n  <MailAddress>john.rinn@plotbi.com</MailAddress>\\r\\n  <Folder>\\\\\\\\vhq-dc-01\\\\FinancialReporting\\\\Publisher\\\\5007</Folder>\\r\\n</Subscriber>', )\n",
      "('<?xml version=\"1.0\" encoding=\"utf-16\"?>\\r\\n<Subscriber xmlns:xsd=\"http://www.w3.org/2001/XMLSchema\" xmlns:xsi=\"http://www.w3.org/2001/XMLSchema-instance\" Id=\"eefb8385-3231-4dc0-8587-9997422a2a63\" User=\"villa.int\\\\jrinn\" Name=\"5015\" Description=\"St Joseph\\'s, a Villa Center\" Created=\"2019-07-12T18:06:18.9644105-05:00\" LastChanged=\"2019-07-12T18:06:19.1834229-05:00\">\\r\\n  <MailAddress>john.rinn@plotbi.com</MailAddress>\\r\\n  <Folder>\\\\\\\\vhq-dc-01\\\\FinancialReporting\\\\Publisher\\\\5015</Folder>\\r\\n</Subscriber>', )\n",
      "('<?xml version=\"1.0\" encoding=\"utf-16\"?>\\r\\n<Subscriber xmlns:xsd=\"http://www.w3.org/2001/XMLSchema\" xmlns:xsi=\"http://www.w3.org/2001/XMLSchema-instance\" Id=\"f34d2319-c57c-47f1-9c18-83d7187669af\" User=\"villa.int\\\\jrinn\" Name=\"5006\" Description=\"Villa at Silverbell Estates\" Created=\"2019-07-12T17:56:23.4863081-05:00\" LastChanged=\"2019-07-12T17:56:23.7063214-05:00\">\\r\\n  <MailAddress>john.rinn@plotbi.com</MailAddress>\\r\\n  <Folder>\\\\\\\\vhq-dc-01\\\\FinancialReporting\\\\Publisher\\\\5006</Folder>\\r\\n</Subscriber>', )\n",
      "('<?xml version=\"1.0\" encoding=\"utf-16\"?>\\r\\n<Subscriber xmlns:xsd=\"http://www.w3.org/2001/XMLSchema\" xmlns:xsi=\"http://www.w3.org/2001/XMLSchema-instance\" Id=\"f61fc2f2-48ec-49c8-b631-eeadcd8ac046\" User=\"villa.int\\\\jrinn\" Name=\"6001\" Description=\"Spring Meadows, A Villa Center\" Created=\"2019-07-12T18:08:27.6257762-05:00\" LastChanged=\"2019-07-12T18:08:27.8417882-05:00\">\\r\\n  <MailAddress>john.rinn@plotbi.com</MailAddress>\\r\\n  <Folder>\\\\\\\\vhq-dc-01\\\\FinancialReporting\\\\Publisher\\\\6001</Folder>\\r\\n</Subscriber>', )\n"
     ]
    }
   ],
   "source": [
    "cursor.execute(query)\n",
    "rows = cursor.fetchall()\n",
    "for row in rows:\n",
    "    print(row)\n"
   ]
  },
  {
   "cell_type": "code",
   "execution_count": 16,
   "metadata": {},
   "outputs": [
    {
     "ename": "ProgrammingError",
     "evalue": "No results.  Previous SQL was not a query.",
     "output_type": "error",
     "traceback": [
      "\u001b[1;31m---------------------------------------------------------------------------\u001b[0m",
      "\u001b[1;31mProgrammingError\u001b[0m                          Traceback (most recent call last)",
      "\u001b[1;32m<ipython-input-16-0bcb0ef36d49>\u001b[0m in \u001b[0;36m<module>\u001b[1;34m\u001b[0m\n\u001b[1;32m----> 1\u001b[1;33m \u001b[1;32mfor\u001b[0m \u001b[0mrow\u001b[0m \u001b[1;32min\u001b[0m \u001b[0mcursor\u001b[0m\u001b[1;33m:\u001b[0m\u001b[1;33m\u001b[0m\u001b[1;33m\u001b[0m\u001b[0m\n\u001b[0m\u001b[0;32m      2\u001b[0m     \u001b[1;31m# print('Original ',row)\u001b[0m\u001b[1;33m\u001b[0m\u001b[1;33m\u001b[0m\u001b[1;33m\u001b[0m\u001b[0m\n\u001b[0;32m      3\u001b[0m     \u001b[0mcursor\u001b[0m\u001b[1;33m.\u001b[0m\u001b[0mexecute\u001b[0m\u001b[1;33m(\u001b[0m\u001b[0mqueryUpdate\u001b[0m\u001b[1;33m)\u001b[0m\u001b[1;33m\u001b[0m\u001b[1;33m\u001b[0m\u001b[0m\n\u001b[0;32m      4\u001b[0m     \u001b[1;31m# print('Updated ',row)\u001b[0m\u001b[1;33m\u001b[0m\u001b[1;33m\u001b[0m\u001b[1;33m\u001b[0m\u001b[0m\n\u001b[0;32m      5\u001b[0m \u001b[0mprint\u001b[0m\u001b[1;33m(\u001b[0m\u001b[1;34m'Script Complete'\u001b[0m\u001b[1;33m)\u001b[0m\u001b[1;33m\u001b[0m\u001b[1;33m\u001b[0m\u001b[0m\n",
      "\u001b[1;31mProgrammingError\u001b[0m: No results.  Previous SQL was not a query."
     ]
    }
   ],
   "source": [
    "for row in cursor:\n",
    "    print('Original ',row)\n",
    "    cursor.execute(queryUpdate)\n",
    "    print('Updated ',row)\n",
    "print('Script Complete')"
   ]
  },
  {
   "cell_type": "code",
   "execution_count": null,
   "metadata": {},
   "outputs": [],
   "source": []
  }
 ],
 "metadata": {
  "kernelspec": {
   "display_name": "Python 3",
   "language": "python",
   "name": "python3"
  },
  "language_info": {
   "codemirror_mode": {
    "name": "ipython",
    "version": 3
   },
   "file_extension": ".py",
   "mimetype": "text/x-python",
   "name": "python",
   "nbconvert_exporter": "python",
   "pygments_lexer": "ipython3",
   "version": "3.7.3"
  }
 },
 "nbformat": 4,
 "nbformat_minor": 4
}
