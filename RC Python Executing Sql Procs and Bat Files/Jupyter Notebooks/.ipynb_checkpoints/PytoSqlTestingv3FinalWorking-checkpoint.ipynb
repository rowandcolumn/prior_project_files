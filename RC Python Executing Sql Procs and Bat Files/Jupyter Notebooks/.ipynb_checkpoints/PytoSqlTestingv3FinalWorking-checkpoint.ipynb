{
 "cells": [
  {
   "cell_type": "code",
   "execution_count": 139,
   "metadata": {},
   "outputs": [],
   "source": [
    "import pyodbc # for calling sqlserver\n",
    "import subprocess # for calling bat files\n",
    "import time # for wait period between execution of procs and bat file execution"
   ]
  },
  {
   "cell_type": "code",
   "execution_count": 140,
   "metadata": {},
   "outputs": [],
   "source": [
    "conn_OSR_Repository_String = 'Driver={SQL Server};''Server=PGH;''Database=OSR_Repository;''Trusted_Connection=YES;'\n",
    "conn_OSR_Repository = pyodbc.connect(conn_OSR_Repository_String, autocommit=True)"
   ]
  },
  {
   "cell_type": "code",
   "execution_count": 141,
   "metadata": {},
   "outputs": [],
   "source": [
    "conn_BI360DW_VillaHC_String = 'Driver={SQL Server};''Server=PGH;''Database=BI360DW_VillaHC;''Trusted_Connection=YES;'\n",
    "conn_BI360DW_VillaHC = pyodbc.connect(conn_BI360DW_VillaHC_String, autocommit=False)"
   ]
  },
  {
   "cell_type": "code",
   "execution_count": 142,
   "metadata": {},
   "outputs": [],
   "source": [
    "query_division = \"select code from dbo.d_Division where OpCo_PropCo = 'Opco'\"\n",
    "# where Name = {}\".format(theUserName)"
   ]
  },
  {
   "cell_type": "code",
   "execution_count": 143,
   "metadata": {},
   "outputs": [],
   "source": [
    "cursor_BI360 = conn_BI360DW_VillaHC.cursor()\n",
    "cursor_OSR = conn_OSR_Repository.cursor()"
   ]
  },
  {
   "cell_type": "code",
   "execution_count": 144,
   "metadata": {},
   "outputs": [
    {
     "name": "stdout",
     "output_type": "stream",
     "text": [
      "Update Procs Completed\n"
     ]
    }
   ],
   "source": [
    "record_To_Alter = '2002'\n",
    "cursor_BI360.execute(query_division)\n",
    "rows = cursor_BI360.fetchall()\n",
    "for row in rows:\n",
    "    # print(row[0]) # Prints the query result without the corresponding key since the returned data type is a dictionary\n",
    "    proc_Update_Subscriber = 'Exec Change_Subscriber @user_name = \"' + record_To_Alter + '\", @new_Dir = \"' + str(row) + '\"'\n",
    "    proc_Update_Subscription = 'Exec Change_Subscription @user_name = \"' + record_To_Alter + '\", @new_parameter_name_division = \"' + str(row) + '\"'\n",
    "    cursor_OSR.execute(proc_Update_Subscriber)\n",
    "    cursor_OSR.execute(proc_Update_Subscription)\n",
    "print('Update Procs Completed')"
   ]
  },
  {
   "cell_type": "code",
   "execution_count": 145,
   "metadata": {},
   "outputs": [],
   "source": [
    "# Close Cursors and Connections\n",
    "cursor_BI360.close()\n",
    "cursor_OSR.close()\n",
    "conn_OSR_Repository.close()\n",
    "conn_BI360DW_VillaHC.close()"
   ]
  },
  {
   "cell_type": "code",
   "execution_count": null,
   "metadata": {},
   "outputs": [],
   "source": [
    "# WAIT FOR PROCS TO EXECUTE BEFORE CALLING BAT FILE/S\n",
    "time.sleep(10) # Seconds\n",
    "\n",
    "# BAT FILE EXECUTION\n",
    "subprocess.call(['C:\\\\Users\\\\Peter\\\\Desktop\\\\Row & Column Project\\\\test.bat'])"
   ]
  }
 ],
 "metadata": {
  "kernelspec": {
   "display_name": "Python 3",
   "language": "python",
   "name": "python3"
  },
  "language_info": {
   "codemirror_mode": {
    "name": "ipython",
    "version": 3
   },
   "file_extension": ".py",
   "mimetype": "text/x-python",
   "name": "python",
   "nbconvert_exporter": "python",
   "pygments_lexer": "ipython3",
   "version": "3.7.3"
  }
 },
 "nbformat": 4,
 "nbformat_minor": 4
}
