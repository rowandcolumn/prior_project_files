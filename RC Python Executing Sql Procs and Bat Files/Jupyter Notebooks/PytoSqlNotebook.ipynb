{
 "cells": [
  {
   "cell_type": "code",
   "execution_count": 1,
   "metadata": {},
   "outputs": [],
   "source": [
    "import pyodbc # for calling sqlserver\n",
    "import subprocess # for calling bat files\n",
    "import time # for wait period between execution of procs and bat file execution"
   ]
  },
  {
   "cell_type": "code",
   "execution_count": 2,
   "metadata": {},
   "outputs": [],
   "source": [
    "conn_OSR_Repository_String = 'Driver={SQL Server};''Server=PGH;''Database=OSR_Repository;''Trusted_Connection=YES;'\n",
    "conn_OSR_Repository = pyodbc.connect(conn_OSR_Repository_String, autocommit=True)"
   ]
  },
  {
   "cell_type": "code",
   "execution_count": 3,
   "metadata": {},
   "outputs": [],
   "source": [
    "conn_BI360DW_VillaHC_String = 'Driver={SQL Server};''Server=PGH;''Database=BI360DW_VillaHC;''Trusted_Connection=YES;'\n",
    "conn_BI360DW_VillaHC = pyodbc.connect(conn_BI360DW_VillaHC_String, autocommit=False)"
   ]
  },
  {
   "cell_type": "code",
   "execution_count": 4,
   "metadata": {},
   "outputs": [],
   "source": [
    "query_division = \"select code from dbo.d_Division where OpCo_PropCo = 'Opco'\"\n",
    "# where Name = {}\".format(theUserName)"
   ]
  },
  {
   "cell_type": "code",
   "execution_count": 5,
   "metadata": {},
   "outputs": [],
   "source": [
    "cursor_BI360 = conn_BI360DW_VillaHC.cursor()\n",
    "cursor_OSR = conn_OSR_Repository.cursor()"
   ]
  },
  {
   "cell_type": "code",
   "execution_count": 7,
   "metadata": {},
   "outputs": [
    {
     "name": "stdout",
     "output_type": "stream",
     "text": [
      "1001\n",
      "2001\n",
      "2002\n",
      "2003\n",
      "2004\n",
      "2005\n",
      "2006\n",
      "2007\n",
      "2008\n",
      "2009\n",
      "3001\n",
      "3002\n",
      "3003\n",
      "4001\n",
      "4002\n",
      "4003\n",
      "4004\n",
      "5001\n",
      "5002\n",
      "5003\n",
      "5004\n",
      "5005\n",
      "5006\n",
      "5007\n",
      "5008\n",
      "5009\n",
      "5010\n",
      "3010\n",
      "1002\n",
      "3004\n",
      "3005\n",
      "3006\n",
      "3007\n",
      "3008\n",
      "3009\n",
      "3011\n",
      "2999\n",
      "2010\n",
      "5011\n",
      "5012\n",
      "5013\n",
      "5014\n",
      "5015\n",
      "5016\n",
      "6001\n",
      "6002\n",
      "1003\n",
      "7001\n",
      "Update Procs Completed\n"
     ]
    }
   ],
   "source": [
    "record_To_Alter = '2002'\n",
    "cursor_BI360.execute(query_division)\n",
    "rows = cursor_BI360.fetchall()\n",
    "for row in rows:\n",
    "    print(row[0]) # Prints the query result without the corresponding key since the returned data type is a dictionary\n",
    "print('Update Procs Completed')"
   ]
  },
  {
   "cell_type": "code",
   "execution_count": 145,
   "metadata": {},
   "outputs": [],
   "source": [
    "# Close Cursors and Connections\n",
    "cursor_BI360.close()\n",
    "cursor_OSR.close()\n",
    "conn_OSR_Repository.close()\n",
    "conn_BI360DW_VillaHC.close()"
   ]
  },
  {
   "cell_type": "code",
   "execution_count": null,
   "metadata": {},
   "outputs": [],
   "source": [
    "# WAIT FOR PROCS TO EXECUTE BEFORE CALLING BAT FILE/S\n",
    "time.sleep(10) # Seconds\n",
    "\n",
    "# BAT FILE EXECUTION\n",
    "subprocess.call(['C:\\\\Users\\\\Peter\\\\Desktop\\\\Row & Column Project\\\\test.bat'])"
   ]
  }
 ],
 "metadata": {
  "kernelspec": {
   "display_name": "Python 3",
   "language": "python",
   "name": "python3"
  },
  "language_info": {
   "codemirror_mode": {
    "name": "ipython",
    "version": 3
   },
   "file_extension": ".py",
   "mimetype": "text/x-python",
   "name": "python",
   "nbconvert_exporter": "python",
   "pygments_lexer": "ipython3",
   "version": "3.7.3"
  }
 },
 "nbformat": 4,
 "nbformat_minor": 4
}
